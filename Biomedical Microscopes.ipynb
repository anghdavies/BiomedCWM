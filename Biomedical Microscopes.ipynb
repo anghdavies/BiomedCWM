{
 "cells": [
  {
   "cell_type": "code",
   "execution_count": 1,
   "metadata": {},
   "outputs": [],
   "source": [
    "#INSTALLATIONS AND IMPORTS\n",
    "\n",
    "#pip install opencv-python\n",
    "\n",
    "import numpy as np\n",
    "import cv2\n",
    "import sys\n",
    "\n",
    "#IMPORT IMAGE\n",
    "img = cv2.imread('1.png')"
   ]
  },
  {
   "cell_type": "code",
   "execution_count": 2,
   "metadata": {},
   "outputs": [],
   "source": [
    "#IMAGE PREPROCESSES \n",
    "\n",
    "#copy of original image for comparison\n",
    "output = img.copy()\n",
    "\n",
    "#contrast control\n",
    "alpha = 1.5 # Contrast control (1.0-3.0)\n",
    "beta = 40 # Brightness control (0-100)\n",
    "\n",
    "adjusted = cv2.convertScaleAbs(img, alpha=alpha, beta=beta)\n",
    "\n",
    "#code to observe contrast changes (comment out when not necessary)\n",
    "#cv2.imshow('original', img)\n",
    "#cv2.imshow('adjusted', adjusted)\n",
    "#cv2.waitKey()\n",
    "\n",
    "#Convert image to Grayscale\n",
    "adjusted = cv2.cvtColor(adjusted,cv2.COLOR_BGR2GRAY)\n",
    "\n",
    "#Blur image\n",
    "adjusted = cv2.GaussianBlur(adjusted, (5,5), 0)\n",
    "\n",
    "#Threshold\n",
    "#adaptive technique\n",
    "#adjusted = cv2.adaptiveThreshold(adjusted,255,cv2.ADAPTIVE_THRESH_GAUSSIAN_C,\\\n",
    "#                   cv2.THRESH_BINARY,11,2)\n",
    "#binary technique\n",
    "ret, adjusted = cv2.threshold(adjusted,0,255,cv2.THRESH_BINARY_INV+cv2.THRESH_OTSU)\n",
    "#otsu technique\n",
    "#ret,adjusted = cv2.threshold(adjusted,0,255,cv2.THRESH_BINARY+cv2.THRESH_OTSU)\n",
    "\n",
    "#Canny edge detection\n",
    "#adjusted = cv2.Canny(adjusted, 50, 200)\n",
    "\n",
    "cv2.imshow('post process', adjusted)\n",
    "\n"
   ]
  },
  {
   "cell_type": "code",
   "execution_count": null,
   "metadata": {},
   "outputs": [
    {
     "name": "stdout",
     "output_type": "stream",
     "text": [
      "Number of circles: 3\n",
      "c1 0.96 51\n",
      "c2 0.9 48\n",
      "c3 0.84 45\n"
     ]
    }
   ],
   "source": [
    "# # detect circles\n",
    "circles = cv2.HoughCircles(image=adjusted,\n",
    "                            method=cv2.HOUGH_GRADIENT, \n",
    "                            dp=1.1, \n",
    "                            param1=100,\n",
    "                            param2=30, \n",
    "                            minDist=30, \n",
    "                            minRadius=10, \n",
    "                            maxRadius=60)\n",
    "\n",
    "rcircles = np.uint16(np.around(circles))\n",
    "\n",
    "if circles is not None:\n",
    "    circles = np.round(circles[0, :]).astype(\"int\")\n",
    "    print (\"Number of circles:\", len(circles))\n",
    "\n",
    "    # Count circles\n",
    "    count=1 \n",
    "    for (x, y, r) in circles:\n",
    "        #Calculate radius in mm:\n",
    "        r_mm = round(r/53.3, 2)\n",
    "        # Create outer circle\n",
    "        cv2.circle(output, (x,y), r, (0, 0, 0), 1)\n",
    "        # Create center rectangle\n",
    "        cv2.rectangle(output, (x-2, y-2), (x+2, y+2), (0,255,0), -1)\n",
    "        # Add radius to center\n",
    "        cv2.putText(output, str(r_mm), \n",
    "                    (x-15, y-5), \n",
    "                    cv2.FONT_HERSHEY_COMPLEX_SMALL, \n",
    "                    0.7, (0, 0, 0), 1)\n",
    "        # Print the radius of detected circles in pixels and mm\n",
    "        print ('c' + str(count) + ' ' + str(r_mm) + ' ' + str(r))\n",
    "        count += 1\n",
    "\n",
    "    cv2.imshow(\"output\", np.hstack([img, output]))\n",
    "    cv2.waitKey(0)"
   ]
  },
  {
   "cell_type": "code",
   "execution_count": null,
   "metadata": {},
   "outputs": [],
   "source": []
  }
 ],
 "metadata": {
  "kernelspec": {
   "display_name": "Python 3",
   "language": "python",
   "name": "python3"
  },
  "language_info": {
   "codemirror_mode": {
    "name": "ipython",
    "version": 3
   },
   "file_extension": ".py",
   "mimetype": "text/x-python",
   "name": "python",
   "nbconvert_exporter": "python",
   "pygments_lexer": "ipython3",
   "version": "3.8.5"
  }
 },
 "nbformat": 4,
 "nbformat_minor": 4
}
